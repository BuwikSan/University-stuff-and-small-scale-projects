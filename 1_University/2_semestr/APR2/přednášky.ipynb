{
 "cells": [
  {
   "cell_type": "code",
   "execution_count": null,
   "metadata": {},
   "outputs": [],
   "source": [
    "import random\n",
    "#systém - uzavřená struktura skládaný z částic se společnou funkcionalitou, které se sčítají a tvoří jeden celek\n",
    "#model - zjednodušená reperezentace reálného systému\n",
    "#entita - konkrétní model se kterým nějakým způsobem pracujeme (model věcí lidských)\n",
    "\n",
    "#chci implementovat entity do mého programování!\n",
    "\n",
    "\n",
    "#tahle opičárna slovníků\n",
    "#nelze zajistit konzistenci\n",
    "#ducktyping\n",
    "\n",
    "\n",
    "def stekej_ig(pes):\n",
    "    print(f\"Pes {pes} štěká {pes}\")\n",
    "\n",
    "pes1 = {\n",
    "    \"jmeno\": \"Azor\",\n",
    "    \"zvuk\": \"haf haf\"\n",
    "}\n",
    "\n",
    "pes2 = {\n",
    "    \"jmeno\": \"Žeryk\",\n",
    "    \"zvuk\": \"buf buf\"\n",
    "}\n",
    "\n",
    "stekej_ig(pes1)\n",
    "\n",
    "\n",
    "## třída a její instance (lepčí než shenanigans)\n",
    "\n",
    "class Pes:\n",
    "    def __init__(self, jmeno, zvuk, pohlaví): # metody začínající na __ jsou dunder metody \n",
    "        self._jmeno = jmeno # _ před proměnnou z toho dělá tajnou proměnnou #zapouzdření (encapsulace)\n",
    "        self.zvuk = zvuk\n",
    "        self.pohlaví = pohlaví\n",
    "        \n",
    "    def __add__(self, other):\n",
    "        if isinstance(other, Pes):        \n",
    "            if self.pohlaví == other.pohlaví: raise Exception(\"Sorry, nejsem teplej/á\")\n",
    "            else: \n",
    "                stenata = []\n",
    "                for istene in range(random.randint(0, 12)):\n",
    "                    stenata.append(Pes(jmeno=self._jmeno + other.jmeno, zvuk=\"iik\", pohlaví= random.choice([\"M\", \"F\"])))\n",
    "                return stenata\n",
    "        else: raise Exception(\"Sorry, nejsem teplej/á\")\n",
    "    \n",
    "    \n",
    "    # getter\n",
    "    @property #pičovina díky který Pes_instance.jmeno spustí fci jmeno a nepotřebuji psat zavorky ^^ (je to dekorator btw)\n",
    "    def jmeno(self):\n",
    "        if random.choice([\"řeknu\", \"neřeknu\"]) == \"neřeknu\":\n",
    "            return \"haf co je ti do toho haf\"\n",
    "        else:\n",
    "            return self._jmeno\n",
    "    #\n",
    "    \n",
    "    # setter\n",
    "    @jmeno.setter #pičovina díky který jsem schopen přenastavit privátní proměnnu\n",
    "    def jmeno(self, value):\n",
    "        if len(value) > 4: self._jmeno = value\n",
    "    #\n",
    "    \n",
    "    def stekej(self) -> None:\n",
    "        print(f\"Pes {self._jmeno} štěká {self.zvuk}\")\n",
    "        \n",
    "    def curej(self, nakoho) -> None:\n",
    "        print(f\"Pes {self._jmeno} čůrá na {nakoho}\")\n",
    "        \n",
    "pes1 = Pes(jmeno= \"Azor\", zvuk=\"haf haf\", pohlaví=\"M\") #realizace nebo instantizace objektu třídy \n",
    "pes2 = Pes(jmeno= \"Besinka\", zvuk=\"haf haf\", pohlaví=\"F\")\n",
    "\n",
    "pes1.stekej()\n",
    "pes1.jmeno = \"Alexander\"\n",
    "pes1.curej(\"Beranek\")\n",
    "\n",
    "print(pes1+pes2)"
   ]
  },
  {
   "cell_type": "markdown",
   "metadata": {},
   "source": [
    "Vytvoření objektu"
   ]
  },
  {
   "cell_type": "code",
   "execution_count": null,
   "metadata": {},
   "outputs": [],
   "source": [
    "x = 2 # literál\n",
    "s = [2, 3] # taky literál\n",
    "\n",
    "s = list() # konstruktor = [] ()\n",
    "objekt = list(s)\n",
    "\n",
    "from datetime import date\n",
    "d = date(2025, 2, 21) # taky konstruktor\n",
    "\n",
    "e = date.today() # vytvoření přes funkci volající konstruktor s vnitřně určenými hodnotami"
   ]
  },
  {
   "cell_type": "markdown",
   "metadata": {},
   "source": [
    "lze modifikovat objekty\n",
    "\n",
    "A poté i vytvářet vlastní třídy, ze kterých potom můžeme vytvářet objekty\n",
    " poznámka: metaclass"
   ]
  },
  {
   "cell_type": "code",
   "execution_count": null,
   "metadata": {},
   "outputs": [
    {
     "name": "stdout",
     "output_type": "stream",
     "text": [
      "Paper(1, A5, False)\n",
      "no A5 už rozdělovat nechceš\n",
      "Paper(1, A5, False) None\n"
     ]
    }
   ],
   "source": [
    "class Paper:\n",
    "    velikosti = {\"A1\": (592, 840), \"A2\": (420, 592), \"A3\": (296, 420), \"A4\": (210, 296), \"A5\": (148, 210)}\n",
    "\n",
    "    def __init__(self, velikost:str, rotated:bool):\n",
    "        self.id = id\n",
    "        if velikost in self.velikosti: self.velikost = velikost\n",
    "        else:\n",
    "            raise ValueError(\"Papíry maj jen formát A1 - A5\")\n",
    "        self.rotated = rotated\n",
    "\n",
    "    def half(self):\n",
    "        if self.velikost != \"A5\":\n",
    "            \n",
    "            print(list(self.velikost)[1])\n",
    "            self.velikost = f\"A{int(list(self.velikost)[1]) + 1}\"\n",
    "            self.rotated = not self.rotated\n",
    "            return Paper(self.velikost, self.rotated)\n",
    "\n",
    "        else:\n",
    "            print(\"no A5 už rozdělovat nechceš\")\n",
    "            return None\n",
    "        \n",
    "    def __repr__(self): ## repr jako reprezentace pro pc (třeba pro znovukonstrukci) tak je taky __str__: (to je pro reprezentaci pro lidi)\n",
    "        return f\"Paper({self.id}, {self.velikost}, {self.rotated})\"\n",
    "\n",
    "paper1 = Paper(\"A5\", False)\n",
    "print(paper1)\n",
    "paper2 = paper1.half()\n",
    "print(paper1, paper2)"
   ]
  },
  {
   "cell_type": "markdown",
   "metadata": {},
   "source": [
    "DÚ __eq__, __contains__\n",
    "hash fce"
   ]
  },
  {
   "cell_type": "markdown",
   "metadata": {},
   "source": [
    "sekvenční datové struktury\n",
    "\n",
    "známé datové struktury obohaceny o prvátní a public metody"
   ]
  },
  {
   "cell_type": "code",
   "execution_count": null,
   "metadata": {},
   "outputs": [],
   "source": [
    "class fronta:\n",
    "    def __init__(self):\n",
    "        self.data = []\n",
    "    def zarad(self, item):\n",
    "        ...\n",
    "    def jsi_prazdna(self):\n",
    "        return True if self._delka_fronty() > 0 else False\n",
    "    def _delka_fronty(self):\n",
    "        return len(self.data)\n",
    "         "
   ]
  },
  {
   "cell_type": "code",
   "execution_count": null,
   "metadata": {},
   "outputs": [
    {
     "name": "stdout",
     "output_type": "stream",
     "text": [
      "['(']\n",
      "['(', '(']\n",
      "['(', '(', '{']\n",
      "['(', '(', '{']  and }\n",
      "['(', '(', '[']\n",
      "['(', '(', '[']  and ]\n",
      "['(', '(']  and )\n",
      "['(', '(']\n",
      "['(', '(', '{']\n",
      "['(', '(', '{', '{']\n",
      "['(', '(', '{', '{', '{']\n",
      "['(', '(', '{', '{', '{', '{']\n",
      "['(', '(', '{', '{', '{', '{', '{']\n",
      "['(', '(', '{', '{', '{', '{', '{']  and }\n",
      "['(', '(', '{', '{', '{', '{']  and }\n",
      "['(', '(', '{', '{', '{']  and }\n",
      "['(', '(', '{', '{']  and }\n",
      "['(', '(', '{']  and }\n",
      "['(', '(', '(']\n",
      "['(', '(', '(', '(']\n",
      "['(', '(', '(', '(', '(']\n",
      "['(', '(', '(', '(', '(']  and )\n",
      "['(', '(', '(', '(']  and )\n",
      "['(', '(', '(']  and )\n",
      "['(', '(']  and )\n",
      "['(']  and )\n",
      "[]\n",
      "True\n"
     ]
    }
   ],
   "source": [
    "## ukol na abstraktni třidy\n",
    "class QueueStackAbstract:\n",
    "    def __init__(self):\n",
    "        self.data = []\n",
    "    \n",
    "    def _front(self):\n",
    "        return self.data[-1] \n",
    "    def _rear(self):\n",
    "        return self.data[0]\n",
    "    def _size(self):\n",
    "        return len(self.data)\n",
    "    def is_empty(self):\n",
    "        return True if self._size() == 0 else False\n",
    "    \n",
    "    def dequeue(self):\n",
    "        if self._size() >= 0:\n",
    "            return self.data.pop()\n",
    "    \n",
    "class Queue(QueueStackAbstract):\n",
    "    def enqueue(self, item):\n",
    "        self.data.insert(0, item)\n",
    "    \n",
    "    def __repr__(self):\n",
    "        return f\"Queue({self.data})\"\n",
    "    \n",
    "class Stack(QueueStackAbstract):\n",
    "    def enstack(self, item):\n",
    "        self.data.append(item)\n",
    "    \n",
    "    def __repr__(self):\n",
    "        return f\"Stack({self.data})\"\n",
    "    \n",
    "class Bbp(Stack):\n",
    "    CHARS_OF_INTEREST = {\n",
    "        \"{\": \"}\",\n",
    "        \"[\": \"]\",\n",
    "        \"(\": \")\"\n",
    "        }\n",
    "      \n",
    "    def correct_brackets_in_string(self, string:str) -> bool:\n",
    "        for char in string:\n",
    "            for l_bracket, r_bracket in self.CHARS_OF_INTEREST.items():\n",
    "                if char == r_bracket:\n",
    "                    if self.data[-1] == l_bracket:\n",
    "                        print(self.data, f\" and {char}\")\n",
    "                        self.dequeue()\n",
    "                    else:\n",
    "                        self.enstack(char)\n",
    "                        print(self.data)\n",
    "                        break\n",
    "                elif char == l_bracket:\n",
    "                    self.enstack(char)\n",
    "                    print(self.data)\n",
    "                    break\n",
    "        print(self.data)\n",
    "        return True if self.data == [] else False\n",
    "bbp_solver = Bbp()\n",
    "print(bbp_solver.correct_brackets_in_string(r\"(({}da[]qsda)({{{{{}}}}}(ssd((sd)))))\"))"
   ]
  },
  {
   "cell_type": "code",
   "execution_count": null,
   "metadata": {},
   "outputs": [],
   "source": [
    "## du dvojita fronta, palindromy, prioritní fronta, infixová prefixová a postfixová notace, seřazený seznam\n",
    "## příští týden sekvenční vhledavani a třídění"
   ]
  },
  {
   "cell_type": "markdown",
   "metadata": {},
   "source": [
    "Vyhledávání - lin, bin, skok, exp"
   ]
  },
  {
   "cell_type": "code",
   "execution_count": null,
   "metadata": {},
   "outputs": [
    {
     "data": {
      "text/plain": [
       "2"
      ]
     },
     "execution_count": 5,
     "metadata": {},
     "output_type": "execute_result"
    }
   ],
   "source": [
    "# Lieární vyhledávání\n",
    "\n",
    "# A. existuje? -> bool\n",
    "# B. kde? -> none/index\n",
    "list = [0,5,1,2,4,1,6,9,8]\n",
    "\n",
    "def lin_search(sekvence, hledany_objekt) -> int:\n",
    "    for index, objekt in enumerate(sekvence):\n",
    "        if hledany_objekt == objekt:\n",
    "            return index\n",
    "    else:\n",
    "        return None\n",
    "        \n",
    "lin_search(list, 1)"
   ]
  },
  {
   "cell_type": "code",
   "execution_count": 2,
   "metadata": {},
   "outputs": [
    {
     "name": "stdout",
     "output_type": "stream",
     "text": [
      "[0, 1, 1, 2, 4, 5, 6, 8, 9, 12, 34, 64, 75, 88, 98, 345, 445, 654, 654, 874, 994, 4657]\n",
      "22 11 64 9\n",
      "22 6 6 9\n",
      "22 9 12 9\n",
      "22 7 8 9\n",
      "22 9 12 9\n",
      "22 8 9 9\n",
      "8\n"
     ]
    }
   ],
   "source": [
    "# Seřazení a vyhledání (efektivnější)\n",
    "\n",
    "list = [0,5,1,2,4,1,6,9,8, 88, 654, 4657, 98, 12, 34, 75, 64, 445, 874, 345, 994, 654]\n",
    "\n",
    "list.sort()\n",
    "print(list)\n",
    "def bin_search(sequence, object, anchor, iteration):\n",
    "    iteration += 1\n",
    "    print(len(sequence), anchor, sequence[anchor], object)\n",
    "\n",
    "    if sequence[anchor] == object:\n",
    "        return anchor\n",
    "    elif object > sequence[anchor]:\n",
    "        return bin_search(sequence, object, anchor + len(sequence)//((iteration+1)*2), iteration)\n",
    "    else:\n",
    "        return bin_search(sequence, object, anchor - len(sequence)//((iteration+1)*2), iteration)\n",
    "        \n",
    "    \n",
    "print(bin_search(list, 9, len(list)//2, 0))"
   ]
  },
  {
   "cell_type": "markdown",
   "metadata": {},
   "source": [
    "vyhledávání extrémů = po seřazení, n, postupně prohledání"
   ]
  },
  {
   "cell_type": "code",
   "execution_count": null,
   "metadata": {},
   "outputs": [],
   "source": [
    "list = [3, 1, 2, 0, 3, 4]\n",
    "\n",
    "def min_max_sort(list):\n",
    "    list.sort()\n",
    "    return (list[0], list[-1])\n",
    "\n",
    "def min_max_n(list):\n",
    "    x_min = list[0]\n",
    "    x_max = list[0]\n",
    "    for obj in list:\n",
    "        if obj < x_min: x_min = obj\n",
    "        if obj > x_max: x_max = obj\n",
    "    return (x_min, x_max)\n",
    "\n",
    "def n_min_max_sort(list, n):\n",
    "    list.sort()\n",
    "    n_min_list = list()\n",
    "    n_max_list = list()\n",
    "    for i in range(n):\n",
    "        n_min_list.append(list[i])\n",
    "        n_max_list.append(list[-i])\n",
    "    return (n_min_list, n_max_list)\n",
    "        \n",
    "def n_min_max_n(list, n):\n",
    "    #FIXME dodělěj to\n",
    "    x_min = list()\n",
    "    x_max = list()\n",
    "    for i in range(n):\n",
    "        ...\n",
    "    for obj in list:\n",
    "        ...\n",
    "    return (x_min, x_max)        "
   ]
  },
  {
   "cell_type": "markdown",
   "metadata": {},
   "source": [
    "chybějící data\n",
    "\n",
    "xor na chybějící data"
   ]
  },
  {
   "cell_type": "code",
   "execution_count": null,
   "metadata": {},
   "outputs": [],
   "source": []
  },
  {
   "cell_type": "markdown",
   "metadata": {},
   "source": [
    "najdi k opakování -> seřaď a detekuj duplikáty"
   ]
  },
  {
   "cell_type": "code",
   "execution_count": null,
   "metadata": {},
   "outputs": [],
   "source": []
  },
  {
   "cell_type": "markdown",
   "metadata": {},
   "source": [
    "nalezení podřeťezce v řetězci\n"
   ]
  },
  {
   "cell_type": "code",
   "execution_count": 3,
   "metadata": {},
   "outputs": [
    {
     "name": "stdout",
     "output_type": "stream",
     "text": [
      "12\n"
     ]
    }
   ],
   "source": [
    "def nalezeni_podretezce(retezec, podretezec):\n",
    "    for i in range(0, len(retezec) - len(podretezec)):\n",
    "        nalezeno = True\n",
    "        for j in range(len(podretezec)):\n",
    "            if retezec[i+j] != podretezec[j]:\n",
    "                nalezeno = False\n",
    "                break\n",
    "        if nalezeno:\n",
    "            return i\n",
    "\n",
    "print(nalezeni_podretezce(\"aaabaacacabbabcbbebbc\", \"abc\"))"
   ]
  },
  {
   "cell_type": "markdown",
   "metadata": {},
   "source": [
    "n**2:\n",
    "insert, selection a bubble sort\n",
    "\n",
    "n log(n):\n",
    "merge - industry standard vždy n log(n), dá se vylepšit\n",
    "quick - jednoduchý na naprogramování ale vulnerable a nestabilní a max obtížnost n**2\n",
    "heap - nejpomalejší z rychlých, ale nejlepší na parciální třídění\n",
    "\n",
    "nejrychlejší, ale už o těch datech něco vim:\n",
    "bucket a radix sort"
   ]
  },
  {
   "cell_type": "code",
   "execution_count": null,
   "metadata": {},
   "outputs": [],
   "source": []
  }
 ],
 "metadata": {
  "kernelspec": {
   "display_name": "Python 3",
   "language": "python",
   "name": "python3"
  },
  "language_info": {
   "codemirror_mode": {
    "name": "ipython",
    "version": 3
   },
   "file_extension": ".py",
   "mimetype": "text/x-python",
   "name": "python",
   "nbconvert_exporter": "python",
   "pygments_lexer": "ipython3",
   "version": "3.10.11"
  }
 },
 "nbformat": 4,
 "nbformat_minor": 2
}
