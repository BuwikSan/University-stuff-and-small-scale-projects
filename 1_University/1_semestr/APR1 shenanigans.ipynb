{
 "cells": [
  {
   "cell_type": "code",
   "execution_count": 18,
   "metadata": {},
   "outputs": [
    {
     "name": "stdout",
     "output_type": "stream",
     "text": [
      "3.1415916535897743\n"
     ]
    }
   ],
   "source": [
    "počet_prvků_řady = 1000000\n",
    "\n",
    "def aproximuj_pi(přesnost):\n",
    "    aproximace_pi = 0\n",
    "    počet_iterací = 0\n",
    "    while počet_iterací < přesnost:\n",
    "        aproximace_pi += ((-1)**(počet_iterací) * (1 / (1 + 2*počet_iterací))) * 4\n",
    "        počet_iterací += 1\n",
    "    return aproximace_pi\n",
    "\n",
    "\n",
    "print(aproximuj_pi(počet_prvků_řady))\n"
   ]
  },
  {
   "cell_type": "code",
   "execution_count": null,
   "metadata": {},
   "outputs": [],
   "source": []
  },
  {
   "cell_type": "code",
   "execution_count": 22,
   "metadata": {},
   "outputs": [
    {
     "name": "stdout",
     "output_type": "stream",
     "text": [
      "[(9, 4, 5), (30, 11, 19), (16, 6, 10)]\n"
     ]
    }
   ],
   "source": [
    "#fce\n",
    "#vstup == věta\n",
    "#výstup seznam trojic [délka věty, počet samohlásek, počet souhlásek]\n",
    "SAMOHLASKY = [\"a\", \"e\", \"i\", \"y\", \"o\", \"u\", \"á\", \"é\", \"í\", \"ý\", \"ó\", \"ů\", \"ú\", \"ě\", \"A\", \"E\", \"I\", \"Y\", \"O\", \"U\", \"Á\", \"É\", \"Í\", \"Ý\", \"Ó\", \"Ů\", \"Ú\"]\n",
    "NEZADOUCI_SYMBOLY = [\" \", \".\", \",\", \"!\", \"?\"]\n",
    "\n",
    "seznam_vět = [\"Ahoj Karle!\", \"ED, Erektilní dysfunkce, je smrtelná.\", \"Máš chuť na bábovku?\"]\n",
    "\n",
    "def rozbor_vety(vety):\n",
    "    vystup = []\n",
    "        \n",
    "    for veta in vety:\n",
    "        pocet_samohlasek = 0\n",
    "        pocet_souhlasek = 0\n",
    "        delka_vety = 0\n",
    "        for pismenko in veta:\n",
    "            je_nezadouci = 0\n",
    "            \n",
    "            for symbol in NEZADOUCI_SYMBOLY:\n",
    "                if pismenko == symbol:\n",
    "                    je_nezadouci = 1\n",
    "                    break\n",
    "                                \n",
    "            if je_nezadouci == 0:\n",
    "                pismenko_je_samohlaska = 0\n",
    "                \n",
    "                for samohlaska in SAMOHLASKY:\n",
    "                    if pismenko == samohlaska:\n",
    "                        pismenko_je_samohlaska = 1\n",
    "                        break\n",
    "                \n",
    "                if pismenko_je_samohlaska == 1:\n",
    "                    pocet_samohlasek += 1\n",
    "                else:\n",
    "                    pocet_souhlasek += 1\n",
    "                              \n",
    "        delka_vety = pocet_samohlasek + pocet_souhlasek\n",
    "        vystup.append((delka_vety, pocet_samohlasek, pocet_souhlasek))\n",
    "    \n",
    "    return vystup            \n",
    "\n",
    "print(rozbor_vety(seznam_vět))"
   ]
  },
  {
   "cell_type": "code",
   "execution_count": 7,
   "metadata": {},
   "outputs": [
    {
     "name": "stdout",
     "output_type": "stream",
     "text": [
      "Jmenuješ se maweh bubu a za rok ti bude 7 let\n"
     ]
    }
   ],
   "source": [
    "# Napište program, který se zeptá uživatele na jméno, příjmení a věk.\n",
    "# Program na obrazovku vypíše větu se jménem uživatele a oznámí mu, kolik let mu bude příští rok.¨\n",
    "# Př.: jmeno=Pavel, prijmeni=Beranek, vek=31, pak na standardním výstupu bude řetězec \"Jmenuješ se Pavel Beránek a za rok ti bude 32 let.\n",
    "\n",
    "jmeno = input(\"Zadejte jmeno: \")\n",
    "prijmeni = input(\"Zadejte prijmeni: \")\n",
    "vek = int(input(\"Zadejte vek: \"))\n",
    "\n",
    "print (f\"Jmenuješ se {jmeno} {prijmeni} a za rok ti bude {vek + 1} let\")"
   ]
  },
  {
   "cell_type": "code",
   "execution_count": 6,
   "metadata": {},
   "outputs": [
    {
     "name": "stdout",
     "output_type": "stream",
     "text": [
      "0 3\n",
      "prohral jsi\n"
     ]
    }
   ],
   "source": [
    "# Napište program, který kontroluje výherní los. Uživatel zadá na klávesnici číslo svého losu a pokud jeho los vyhrál ve sportce,\n",
    "#  tak se vypíše hláška na obrazovku o vítězství. Ve sportce se losuje jen jedna číslice a to od 1 do 9. Los má také jen jednu číslici.\n",
    "#  Pro generování náhodného čísla použijte knihovnu random a její příkaz randint(min, max), kde min a max jsou rozmezí generování náhodného čísla.\n",
    "from random import randint\n",
    "\n",
    "muj_tip = int(input(\"Zadejte tip: \"))\n",
    "vyherni_cislo = randint(0, 9)\n",
    "\n",
    "print(muj_tip, vyherni_cislo)\n",
    "\n",
    "if muj_tip == vyherni_cislo:\n",
    "    print(\"Vhral jsi\")\n",
    "elif (muj_tip == vyherni_cislo + 1) or (muj_tip == vyherni_cislo - 1):\n",
    "    print(\"těsně vedle, ale prohral jsi\")\n",
    "else:\n",
    "    print(\"prohral jsi\")\n"
   ]
  },
  {
   "cell_type": "code",
   "execution_count": 3,
   "metadata": {},
   "outputs": [
    {
     "name": "stdout",
     "output_type": "stream",
     "text": [
      "prihlasen\n"
     ]
    }
   ],
   "source": [
    "#  Realizujte algoritmus přihlašování do SIM karty. Program vás požadá o zadání správného PINu SIM karty. Na zadání máte 3 pokusy.\n",
    "#  Pokud se trefíte do správného PINu, pak vám aplikace vypíše informaci o úspěšném přihlášení do SIM karty.\n",
    "#  Pokud se netrefíte, pak vás požadá o korektní zadaní.\n",
    "#  Pokud se netrefíte 3x, tak aplikace vypíše informaci o zablokování SIM karty.\n",
    "\n",
    "PIN = 1234\n",
    "MAX_POCET_POKUSU = 3\n",
    "\n",
    "\n",
    "pocet_pokusu = 0\n",
    "pin_pokus = -1\n",
    "\n",
    "while pocet_pokusu < MAX_POCET_POKUSU and pin_pokus != PIN:\n",
    "    pin_pokus = int(input(\"(pokus) Zadej pin: \"))\n",
    "    pocet_pokusu += 1\n",
    "\n",
    "if pin_pokus == PIN:\n",
    "    print(\"prihlasen\")\n",
    "else:\n",
    "    print(\"si debil\")\n",
    "\n"
   ]
  },
  {
   "cell_type": "code",
   "execution_count": null,
   "metadata": {},
   "outputs": [],
   "source": []
  },
  {
   "cell_type": "code",
   "execution_count": 27,
   "metadata": {},
   "outputs": [
    {
     "name": "stdout",
     "output_type": "stream",
     "text": [
      "('banán', 10)\n",
      "Zde budes zadavat kolik chces jakeho zbozi, pokud uz chces zaplatit, napis ZAPALTIT.\n",
      "[('kečup', 1)]\n",
      "[('kečup', 1), ('banán', 6)]\n",
      "[('kečup', 1), ('banán', 6), ('salám', 2)]\n",
      "si debil 1\n",
      "si debil 2\n",
      "si debil 2\n",
      "[('kečup', 1), ('banán', 6), ('salám', 2), ('banán', 7)]\n",
      "zaplat 320\n"
     ]
    }
   ],
   "source": [
    "# Mějme následující seznam produktů s cenou:\n",
    "# Napište program, do kterého uživatel napíše název produktu a množství, které chce zakoupit daného produktu. \n",
    "# Až uživatel napíše ZAPLATIT, tak program ukončí zadávání zboží do košíku a vypíše na obrazovku celkovou cenu za nákup.\n",
    "\n",
    "PRODUKTY = [\n",
    "  (\"banán\", 10),\n",
    "  (\"rohlík\", 3),\n",
    "  (\"paštika\", 30),\n",
    "  (\"hermelín\", 50),\n",
    "  (\"chleba\", 30),\n",
    "  (\"salám\", 60),\n",
    "  (\"kečup\", 70),\n",
    "  (\"eidam\", 40),\n",
    "  (\"mandarinka\", 8),\n",
    "  (\"okurka\", 10),\n",
    "]\n",
    "\n",
    "print(PRODUKTY[0])\n",
    "\n",
    "nakupni_kosik = []\n",
    "vstup_uzivatele = -1\n",
    "cena_nakupu = 0\n",
    "\n",
    "print(\"Zde budes zadavat kolik chces jakeho zbozi, pokud uz chces zaplatit, napis ZAPALTIT.\")\n",
    "\n",
    "while True:\n",
    "    vstup_uzivatele = input(\"Zadej jmeno zbozi a kolik ho chces vzor(zbozi, pocet): \")\n",
    "    vstup_na_casti = vstup_uzivatele.split(\", \")\n",
    "    je_vstup_produkt = False\n",
    "\n",
    "    if vstup_uzivatele == \"ZAPLATIT\":\n",
    "        break\n",
    "\n",
    "    if len(vstup_na_casti) != 2:\n",
    "        print(\"si debil 1\")\n",
    "        continue\n",
    "    try:\n",
    "        vstup_na_casti[1] = int(vstup_na_casti[1])\n",
    "    except:\n",
    "        print(\"si debil 2\")\n",
    "        continue\n",
    "    \n",
    "    for produkt in PRODUKTY:\n",
    "        if produkt[0] == vstup_na_casti[0]:\n",
    "            je_vstup_produkt = True\n",
    "            break\n",
    "    \n",
    "    if je_vstup_produkt == True:\n",
    "        nakupni_kosik.append((vstup_na_casti[0], vstup_na_casti[1]))\n",
    "        print(nakupni_kosik)\n",
    "\n",
    "\n",
    "for zbozi in nakupni_kosik:\n",
    "    for produkt in PRODUKTY:\n",
    "        if zbozi[0] == produkt[0]:\n",
    "            cena_nakupu += produkt[1] * zbozi[1]\n",
    "\n",
    "print(f\"zaplat {cena_nakupu}\")\n",
    "\n"
   ]
  },
  {
   "cell_type": "code",
   "execution_count": 20,
   "metadata": {},
   "outputs": [
    {
     "name": "stdout",
     "output_type": "stream",
     "text": [
      "[('Pavel', 5), ('Honza', 3), ('Jana', 7), ('Milan', 4), ('Michaela', 9)]\n",
      "0 1\n",
      "[('Pavel', 5), ('Honza', 3), ('Jana', 7), ('Milan', 4), ('Michaela', 9)] set 0 porovnání 0\n",
      "1 2\n",
      "prohozenno\n",
      "[('Pavel', 5), ('Jana', 7), ('Honza', 3), ('Milan', 4), ('Michaela', 9)] set 0 porovnání 1\n",
      "2 3\n",
      "prohozenno\n",
      "[('Pavel', 5), ('Jana', 7), ('Milan', 4), ('Honza', 3), ('Michaela', 9)] set 0 porovnání 2\n",
      "3 4\n",
      "prohozenno\n",
      "[('Pavel', 5), ('Jana', 7), ('Milan', 4), ('Michaela', 9), ('Honza', 3)] set 0 porovnání 3\n",
      "0 1\n",
      "prohozenno\n",
      "[('Jana', 7), ('Pavel', 5), ('Milan', 4), ('Michaela', 9), ('Honza', 3)] set 1 porovnání 0\n",
      "1 2\n",
      "[('Jana', 7), ('Pavel', 5), ('Milan', 4), ('Michaela', 9), ('Honza', 3)] set 1 porovnání 1\n",
      "2 3\n",
      "prohozenno\n",
      "[('Jana', 7), ('Pavel', 5), ('Michaela', 9), ('Milan', 4), ('Honza', 3)] set 1 porovnání 2\n",
      "0 1\n",
      "[('Jana', 7), ('Pavel', 5), ('Michaela', 9), ('Milan', 4), ('Honza', 3)] set 2 porovnání 0\n",
      "1 2\n",
      "prohozenno\n",
      "[('Jana', 7), ('Michaela', 9), ('Pavel', 5), ('Milan', 4), ('Honza', 3)] set 2 porovnání 1\n",
      "0 1\n",
      "prohozenno\n",
      "[('Michaela', 9), ('Jana', 7), ('Pavel', 5), ('Milan', 4), ('Honza', 3)] set 3 porovnání 0\n",
      "[('Michaela', 9), ('Jana', 7), ('Pavel', 5), ('Milan', 4), ('Honza', 3)]\n"
     ]
    }
   ],
   "source": [
    "# Mějme seznam hráčů a jejich nahrané skóre ve hře:\n",
    "\n",
    "hraci = [(\"Pavel\", 5), (\"Honza\", 3), (\"Jana\", 7), (\"Milan\", 4), (\"Michaela\", 9)]\n",
    "\n",
    "# Vypište na obrazovku jméno nejlepšího a nejhoršího hráče podle skóre.\n",
    "\n",
    "nejlepsi_hrac = None\n",
    "nejhorsi_hrac = None\n",
    "\n",
    "for hrac in hraci:\n",
    "    if nejlepsi_hrac == None:\n",
    "        nejlepsi_hrac = hrac\n",
    "\n",
    "    elif hrac[1] > nejlepsi_hrac[1]:\n",
    "        nejlepsi_hrac = hrac\n",
    "\n",
    "    if nejhorsi_hrac == None:\n",
    "        nejhorsi_hrac = hrac\n",
    "\n",
    "    elif hrac[1] < nejhorsi_hrac[1]:\n",
    "        nejhorsi_hrac = hrac\n",
    "\n",
    "\n",
    "\n",
    "# Vypište na obrazovku hráče v pořadí od nejlepšího po nejhoršího.\n",
    "\n",
    "print(hraci)\n",
    "\n",
    "for index1 in range(len(hraci) - 1):\n",
    "    for index2 in range(len(hraci) - 1 - index1):\n",
    "        if hraci[index2][1] < hraci[index2 + 1][1]:\n",
    "            temp_hrac = hraci[index2 + 1]\n",
    "            hraci[index2 + 1] = hraci[index2]\n",
    "            hraci[index2] = temp_hrac\n",
    "print(hraci)"
   ]
  },
  {
   "cell_type": "code",
   "execution_count": null,
   "metadata": {},
   "outputs": [],
   "source": [
    "def factorial(cislo):\n",
    "    vysledek = 1\n",
    "    for i in range(2, cislo):\n",
    "        ...\n",
    "    \n",
    "    return vysledek\n",
    "\n",
    "\n",
    "soucet = factorial(5, 7)\n",
    "\n",
    "\n",
    "index = 0\n",
    "while index > -1:\n",
    "    index += 1\n",
    "    print(f\"ahoj {index}\")"
   ]
  },
  {
   "cell_type": "code",
   "execution_count": 7,
   "metadata": {},
   "outputs": [
    {
     "name": "stdout",
     "output_type": "stream",
     "text": [
      "[('Lada', 4), ('Sarka', 1), ('Matej', 2), ('Lukas', 1), ('Eliska', 1), ('Kuba', 5)]\n"
     ]
    }
   ],
   "source": [
    "#Napište funkci, která vrátí průměrnou známku třídy.\n",
    "#  Známky třídy budou vloženy jako slovník, kde klíčem je jméno studenta a hodnotou je seznam jeho známek.\n",
    "\n",
    "#zaci.items()\n",
    "\n",
    "zaci = {\n",
    "    \"Lada\" : 4,\n",
    "    \"Sarka\" : 1,\n",
    "    \"Matej\" : 2,\n",
    "    \"Lukas\" : 1,\n",
    "    \"Eliska\" : 1,\n",
    "    \"Kuba\" : 5,\n",
    "}\n",
    "soucet = 0\n",
    "pocet_zaku = 0\n",
    "zaci.items()\n",
    "print(list(zaci.items()))\n",
    "for zak in zaci.items():\n",
    "    soucet = soucet + zak[1]\n",
    "\n",
    "\n",
    "\n",
    "\n",
    "#aret_prumer = soucet / pocet_zaku\n",
    "#print(aret_prumer)"
   ]
  },
  {
   "cell_type": "code",
   "execution_count": 6,
   "metadata": {},
   "outputs": [
    {
     "data": {
      "text/plain": [
       "0"
      ]
     },
     "execution_count": 6,
     "metadata": {},
     "output_type": "execute_result"
    }
   ],
   "source": [
    "from os import system\n",
    "\n",
    "system(\"mkdir test\")\n",
    "system(\"cd test && echo blbablabla > blabla.txt\")"
   ]
  },
  {
   "cell_type": "code",
   "execution_count": 12,
   "metadata": {},
   "outputs": [
    {
     "data": {
      "text/plain": [
       "0"
      ]
     },
     "execution_count": 12,
     "metadata": {},
     "output_type": "execute_result"
    }
   ],
   "source": [
    "system(\"dir\") #system(\"ls\")"
   ]
  },
  {
   "cell_type": "code",
   "execution_count": 15,
   "metadata": {},
   "outputs": [
    {
     "data": {
      "text/plain": [
       "2"
      ]
     },
     "execution_count": 15,
     "metadata": {},
     "output_type": "execute_result"
    }
   ],
   "source": [
    "system(\"rmdir test\")"
   ]
  },
  {
   "cell_type": "code",
   "execution_count": 3,
   "metadata": {},
   "outputs": [
    {
     "data": {
      "text/plain": [
       "'c:\\\\Users\\\\matbx\\\\OneDrive\\\\Dokumenty\\\\Coding\\\\Python\\\\1.University\\\\A\\\\B\\\\C\\\\A\\\\B\\\\C'"
      ]
     },
     "execution_count": 3,
     "metadata": {},
     "output_type": "execute_result"
    }
   ],
   "source": [
    "# os agnostic code\n",
    "import os\n",
    "# os.mkdir(\"A\")\n",
    "# os.mkdir(\"A/B\")\n",
    "# os.mkdir(\"A/B/C\")\n",
    "os.makedirs(\"A\\B\\C\")\n",
    "os.chdir(\"A\\B\\C\")\n",
    "os.getcwd()\n",
    "os.system(\"echo blibli > blibli.txt\")\n",
    "os.chdir(\"..\\..\\..\")\n",
    "os.getcwd()\n",
    "soubory = os.listdir(\"A\\B\\C\")\n",
    "print(soubory) # třeba, idk"
   ]
  },
  {
   "cell_type": "code",
   "execution_count": null,
   "metadata": {},
   "outputs": [],
   "source": [
    "import shutil # knihovna pro líné lidi (\"doplněk\" pro os) \n",
    "# shutil.rmtree(\"A\") # smaže celou složku i s obsahem\n",
    "# shutil.copy(fr\"A\\B\\C\\blibli.txt\", fr\"A\\B\\C\\blibli2.txt\") # kopíruje soubor\n",
    "# shutil.copy2(fr\"A\\B\\C\\blibli.txt\", fr\"A\\B\\C\\blibli2.txt\") # kopíruje soubor a zachová metadata\n",
    "# shutil.copytree(\"A\", \"A2\") # kopíruje složku\n",
    "# shutil.move(\"A\", \"A2\") # přesune složku\n",
    "# shutil.make_archive(\"A\", \"zip\", \"A\") # vytvoří zip archiv\n",
    "# shutil.unpack_archive(\"A.zip\", \"A\") # rozbalí zip archiv"
   ]
  },
  {
   "cell_type": "code",
   "execution_count": 1,
   "metadata": {},
   "outputs": [],
   "source": [
    "# vytvořte (ručně) soubor soubory.txt ve kterém budou názvy adresářů a souborů. soubory\n",
    "# poznáte podle přípony .txt. Vytvořte všechny adresáře a vytvořte do nich soubory s obsahem AHOJ \n",
    "# na prvním řádku a soubor bude umístěn do adresáře podle prvního písmena v názvu \n",
    "# (př. A/aleš.txt autak/amalie.txt, B/božena.txt, buran/bafikybaf.txt) \n",
    "\n"
   ]
  },
  {
   "cell_type": "code",
   "execution_count": 10,
   "metadata": {},
   "outputs": [
    {
     "name": "stdout",
     "output_type": "stream",
     "text": [
      "1.25\n",
      "jsi sikulka a umis zadavat cisla\n",
      "konec\n"
     ]
    }
   ],
   "source": [
    "#vyjímky\n",
    "try:\n",
    "    a = int(input(\"Zadejte číslo: \"))\n",
    "    b = int(input(\"Zadejte číslo: \"))\n",
    "    podil = a / b\n",
    "    print(podil)\n",
    "except (ZeroDivisionError, ValueError):\n",
    "    print(\"delis nulou debile\")\n",
    "except:\n",
    "    print(\"mas to blbe\")\n",
    "else:\n",
    "    print(\"jsi sikulka a umis zadavat cisla\")\n",
    "finally:\n",
    "    print(\"konec\")"
   ]
  },
  {
   "cell_type": "code",
   "execution_count": null,
   "metadata": {},
   "outputs": [],
   "source": [
    "try:\n",
    "    open(\"bloblo.txt\", \"r\")\n",
    "except FileNotFoundError:\n",
    "# je strasne dulezity začínat s nejkonkretnějšími výjimkami,\n",
    "# protože jinak by se mohlo stát, že by se nám chyba nepodařila zachytit, \n",
    "# protože by byla zachycena výjimka, která je obecnější\n",
    "    print(\"soubor neexistuje\")\n",
    "except OSError:\n",
    "    print(\"Selhal ti windows, nemas ho pouzivat\")\n",
    "except:\n",
    "    print(\"neznama obecna chyba, kontaktujte vyvojare\")"
   ]
  },
  {
   "cell_type": "code",
   "execution_count": 11,
   "metadata": {},
   "outputs": [
    {
     "ename": "ValueError",
     "evalue": "znamka neni v rozsahu 1-5",
     "output_type": "error",
     "traceback": [
      "\u001b[1;31m---------------------------------------------------------------------------\u001b[0m",
      "\u001b[1;31mValueError\u001b[0m                                Traceback (most recent call last)",
      "Cell \u001b[1;32mIn[11], line 3\u001b[0m\n\u001b[0;32m      1\u001b[0m znamka \u001b[38;5;241m=\u001b[39m \u001b[38;5;241m6\u001b[39m\n\u001b[0;32m      2\u001b[0m \u001b[38;5;28;01mif\u001b[39;00m znamka \u001b[38;5;129;01mnot\u001b[39;00m \u001b[38;5;129;01min\u001b[39;00m [\u001b[38;5;241m1\u001b[39m,\u001b[38;5;241m2\u001b[39m,\u001b[38;5;241m3\u001b[39m,\u001b[38;5;241m4\u001b[39m,\u001b[38;5;241m5\u001b[39m]:\n\u001b[1;32m----> 3\u001b[0m     \u001b[38;5;28;01mraise\u001b[39;00m \u001b[38;5;167;01mValueError\u001b[39;00m(\u001b[38;5;124m\"\u001b[39m\u001b[38;5;124mznamka neni v rozsahu 1-5\u001b[39m\u001b[38;5;124m\"\u001b[39m)\n",
      "\u001b[1;31mValueError\u001b[0m: znamka neni v rozsahu 1-5"
     ]
    }
   ],
   "source": [
    "znamka = 6\n",
    "if znamka not in [1,2,3,4,5]:\n",
    "    raise ValueError(\"znamka neni v rozsahu 1-5\")"
   ]
  },
  {
   "cell_type": "code",
   "execution_count": null,
   "metadata": {},
   "outputs": [],
   "source": [
    "import json # zkus použít"
   ]
  }
 ],
 "metadata": {
  "kernelspec": {
   "display_name": "Python 3",
   "language": "python",
   "name": "python3"
  },
  "language_info": {
   "codemirror_mode": {
    "name": "ipython",
    "version": 3
   },
   "file_extension": ".py",
   "mimetype": "text/x-python",
   "name": "python",
   "nbconvert_exporter": "python",
   "pygments_lexer": "ipython3",
   "version": "3.10.11"
  }
 },
 "nbformat": 4,
 "nbformat_minor": 2
}
